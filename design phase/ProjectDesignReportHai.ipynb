{
 "cells": [
  {
   "cell_type": "markdown",
   "metadata": {},
   "source": [
    "<P> <img src=\"https://i.ibb.co/gyNf19D/nhslogo.png\" alt=\"nhslogo\" border=\"0\" width=\"100\" align=\"right\"><font size=\"6\"><b> CS6131 Database Design</b> </font>"
   ]
  },
  {
   "cell_type": "markdown",
   "metadata": {},
   "source": [
    "# Project Design Phase Report Submission"
   ]
  },
  {
   "cell_type": "markdown",
   "metadata": {},
   "source": [
    "### By Trinh Hoang Hai"
   ]
  },
  {
   "cell_type": "markdown",
   "metadata": {},
   "source": [
    "### Submission Instructions"
   ]
  },
  {
   "cell_type": "markdown",
   "metadata": {},
   "source": [
    "<div class=\"alert alert-block alert-info\">\n",
    "\n",
    "* You will need to submit the following files in your final project submission:\n",
    "    * Your Jupyter Notebook report. Name the report `ProjectDesignReport<YourName>.ipynb`.\n",
    "    * All relevant image files to be displayed in this report (make sure you use relative file referencing and the image will display in another computer).\n",
    "    * Attached each file one by one and upload on Coursemology.\n",
    "* Please print a copy of the final report to OneNote Individual Notebook space > Project. Double check on the image resolution. If the resolution is poor, please copy and paste the ORIGINAL clear image into the OneNote page (paste at the side of the printed image).\n",
    "\n",
    "* Any submission that fails to comply to the above instructions will result in upto 5% penalty.\n",
    "\n",
    "* You may wish to refer to the following reference to help organize and \"beautify\" your final report here. <br>\n",
    "https://thecodingbot.com/markdown-in-jupyter-ipython-notebook-cheatsheet/\n",
    "</div>"
   ]
  },
  {
   "cell_type": "markdown",
   "metadata": {},
   "source": [
    "### Section A: Overview & Business Rules"
   ]
  },
  {
   "cell_type": "markdown",
   "metadata": {},
   "source": [
    "### Overview"
   ]
  },
  {
   "cell_type": "markdown",
   "metadata": {},
   "source": [
    "<div class=\"alert alert-block alert-warning\">\n",
    "Give a short background of your proposed domain, and why a RDBMS system is appropriate.\n",
    "</div>\n"
   ]
  },
  {
   "cell_type": "markdown",
   "metadata": {},
   "source": [
    "Online shopping is a popular alternative to visiting physical retailers. Customers can browse, buy and receive products wherever they want. One common type of online vendors are clothing stores. Unlike physical stores where space is a constraint, online stores allow for all available items to be displayed to the customer. Customers can also quickly find the product they have in mind using the search function of the store website.\n",
    "\n",
    "To easily manage customer orders, the database should be able to relate customers to the products they bought, which is a fitting job for an RDBMS system. An RDBMS system also allows for fast queries of products, search filtering and grouping of products into multiple categories, giving the customer a better shopping experience."
   ]
  },
  {
   "cell_type": "markdown",
   "metadata": {},
   "source": [
    "### Business Rules"
   ]
  },
  {
   "cell_type": "markdown",
   "metadata": {},
   "source": [
    "<div class=\"alert alert-block alert-warning\">\n",
    "Complete your writeup of the final business rules here. The business rules writeup should be AS CLEAR AS possible. Someone reading your writeup should be able to clearly model a similar ER you have proposed in Section B.\n",
    "</div>\n"
   ]
  },
  {
   "cell_type": "markdown",
   "metadata": {},
   "source": [
    "Each **customer** in the database can be identified by a unique customer ID. They are also required to provide an email, phone number and address for delivery purposes. A customer is either a **member** or a **non-member**. Members are those who have registered an account, hence they have login details consisting of a username and a password, as well as names and dates of birth. \n",
    "\n",
    "To encourage membership, the store sometimes gives out exclusive **discounts** to its members, each with a code, start date, end date, and amount of discount. A member cannot have two discounts with the same code, but multiple members can have the same discount code. Not all members have discounts, but all discounts must have a member as the owner. Non-members do not receive discounts.\n",
    "\n",
    "Customers can write **feedbacks** for the store. Feedbacks have unique IDs and the contents.\n",
    "\n",
    "**Products** are items sold in the store. Each product has a unique product ID, a name, number of items in stock, type (shirts, pants, etc), size, price, colors and the categories it belongs to (men, women, accessories). A product can be of multiple colors and belong to multiple categories. Note that similar products with different sizes are considered 2 separate products. For example, a \"Baseball Long Sleeve - B&W\" of size S is a separate product from a \"Baseball Long Sleeve - B&W\" of size L. Each would have their own unique IDs and may have different prices.\n",
    "\n",
    "Customers can favourite products, adding them to a wishlist. \n",
    "\n",
    "**Brands** are product suppliers. Each brand has a unique brand ID and a brand name. They supply multiple products to the store. Only brands who have supplied products are recorded in the database.\n",
    "\n",
    "**Orders** are practically the shopping carts of the online store. Each order has a unique ID and the total price of items within. Products can be added to orders with a specified quantity, i.e how many Blue Plaid Shirts are to be put in the cart. The total price is derived from the price of the product and the quantity of items. A customer make orders by paying for them. The date at which the order is made is recorded.\n",
    "\n",
    "After the purchase is made, an order will be delivered to the customer as a **shipment**. A shipment has unique a shipment ID and a shipment status. Shipments allow the user to track the progress of the delivery.\n",
    "\n",
    "Products can be on sale. Sales are unique entity so that user can see all products that are on sale."
   ]
  },
  {
   "cell_type": "markdown",
   "metadata": {},
   "source": [
    "### Section B: ER Model"
   ]
  },
  {
   "cell_type": "markdown",
   "metadata": {},
   "source": [
    "<div class=\"alert alert-block alert-warning\">\n",
    "Attached the image of your ER Model here.\n",
    "</div>\n"
   ]
  },
  {
   "cell_type": "markdown",
   "metadata": {},
   "source": [
    "<img src=\"oldER.png\">"
   ]
  },
  {
   "cell_type": "markdown",
   "metadata": {},
   "source": [
    "### Section C: Relational Model"
   ]
  },
  {
   "cell_type": "markdown",
   "metadata": {},
   "source": [
    "<div class=\"alert alert-block alert-warning\">\n",
    "Attached the image of your Relational Model here. You should use Box-Style notation only. All foregin keys must be properly indicated.\n",
    "</div>\n"
   ]
  },
  {
   "cell_type": "markdown",
   "metadata": {},
   "source": [
    "<img src=\"oldSchema.png\">"
   ]
  },
  {
   "cell_type": "markdown",
   "metadata": {},
   "source": [
    "<div class=\"alert alert-block alert-warning\">\n",
    "Justify your mapping strategy from ER to relational, particularly if the approach deviates from the norm, or you have inheritance in your ER model (i.e. which strategy is adopted for inheritance mapping and why).\n",
    "</div>\n"
   ]
  },
  {
   "cell_type": "markdown",
   "metadata": {},
   "source": [
    "Customer: Option 8C was used because the subclasses are disjoint, and the NonMember subclass does not have any attributes, so creating a new table for it is a waste of space.\n",
    "\n",
    "Delivers relationship: Merge relation is adopted as the relationship is 1:1 and both participations are total. Shipment attributes are hence merged into Order."
   ]
  },
  {
   "cell_type": "markdown",
   "metadata": {},
   "source": [
    "<div class=\"alert alert-block alert-warning\">\n",
    "If the relational schema mapped from the ER is not in 3NF, propose relevant normalization to make all relations in 3NF. You may leave this part blank if no further normalization is required.\n",
    "</div>\n"
   ]
  },
  {
   "cell_type": "markdown",
   "metadata": {},
   "source": [
    "The Order relation is not 3NF, as there is transitive dependency. The attribute status is functionally dependent on shipmentID, which is functionally dependent on orderID.\n",
    "\n",
    "To normalize, split Order into 2 relations as follows:"
   ]
  },
  {
   "cell_type": "markdown",
   "metadata": {},
   "source": [
    "<img src=\"Schema2.png\">"
   ]
  },
  {
   "cell_type": "markdown",
   "metadata": {
    "slideshow": {
     "slide_type": "skip"
    }
   },
   "source": [
    "<hr>\n",
    "© NUS High School of Math & Science"
   ]
  }
 ],
 "metadata": {
  "kernelspec": {
   "display_name": "Python 3.10.x 64-bit (microsoft store)",
   "language": "python",
   "name": "python3"
  },
  "language_info": {
   "codemirror_mode": {
    "name": "ipython",
    "version": 3
   },
   "file_extension": ".py",
   "mimetype": "text/x-python",
   "name": "python",
   "nbconvert_exporter": "python",
   "pygments_lexer": "ipython3",
   "version": "3.10.10"
  },
  "vscode": {
   "interpreter": {
    "hash": "b782194b182c68f5ebaf8208ea1285647dbf67e6c05aa3ee3c3103d6a4ad649a"
   }
  }
 },
 "nbformat": 4,
 "nbformat_minor": 4
}
